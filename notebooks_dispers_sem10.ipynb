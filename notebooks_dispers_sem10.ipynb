{
  "metadata": {
    "language_info": {
      "codemirror_mode": {
        "name": "python",
        "version": 3
      },
      "file_extension": ".py",
      "mimetype": "text/x-python",
      "name": "python",
      "nbconvert_exporter": "python",
      "pygments_lexer": "ipython3",
      "version": "3.8"
    },
    "kernelspec": {
      "name": "python",
      "display_name": "Python (Pyodide)",
      "language": "python"
    }
  },
  "nbformat_minor": 4,
  "nbformat": 4,
  "cells": [
    {
      "cell_type": "code",
      "source": "import numpy as np\nfrom scipy import stats\nimport matplotlib.pyplot as plt ",
      "metadata": {
        "trusted": true
      },
      "execution_count": 1,
      "outputs": []
    },
    {
      "cell_type": "code",
      "source": "#Провести дисперсионный анализ для определения того, \n# есть ли различия среднего роста среди взрослых футболистов, хоккеистов и штангистов\n\nf = np.array([173, 175, 180, 178, 177, 185, 183, 182])\nh = np.array([177, 179, 180, 188, 177, 172, 171, 184, 180])\nath = np.array([172, 173, 169, 177, 166, 180, 178, 177, 172, 166, 170])",
      "metadata": {
        "trusted": true
      },
      "execution_count": 2,
      "outputs": []
    },
    {
      "cell_type": "code",
      "source": "#проверяем условия применимости для дисперсионного анализа\n# нормальное распределение каждой выборки - тест shapiro\nprint(stats.shapiro(f))\nprint(stats.shapiro(h))\nprint(stats.shapiro(ath))",
      "metadata": {
        "trusted": true
      },
      "execution_count": 3,
      "outputs": [
        {
          "name": "stdout",
          "text": "ShapiroResult(statistic=0.9775082468986511, pvalue=0.9495404362678528)\nShapiroResult(statistic=0.9579196572303772, pvalue=0.7763139009475708)\nShapiroResult(statistic=0.9386808276176453, pvalue=0.5051165223121643)\n",
          "output_type": "stream"
        }
      ]
    },
    {
      "cell_type": "code",
      "source": "# так как значения pvalue в каждой выборке больше 0.05 => нет статичтических различий между значениями\n# и выборки считаются однородными",
      "metadata": {
        "trusted": true
      },
      "execution_count": 4,
      "outputs": []
    },
    {
      "cell_type": "code",
      "source": "# однородность дисперсий - тест bartlett",
      "metadata": {
        "trusted": true
      },
      "execution_count": 5,
      "outputs": []
    },
    {
      "cell_type": "code",
      "source": "print(stats.bartlett(f, h, ath))",
      "metadata": {
        "trusted": true
      },
      "execution_count": 6,
      "outputs": [
        {
          "name": "stdout",
          "text": "BartlettResult(statistic=0.4640521043406442, pvalue=0.7929254656083131)\n",
          "output_type": "stream"
        }
      ]
    },
    {
      "cell_type": "code",
      "source": "# так как pvalue больше 0.05, значит дисперсии однородны",
      "metadata": {
        "trusted": true
      },
      "execution_count": 7,
      "outputs": []
    },
    {
      "cell_type": "code",
      "source": "# дисперсионный анализ\nf_mean = np.mean(f)\nprint(f_mean)",
      "metadata": {
        "trusted": true
      },
      "execution_count": 8,
      "outputs": [
        {
          "name": "stdout",
          "text": "179.125\n",
          "output_type": "stream"
        }
      ]
    },
    {
      "cell_type": "code",
      "source": "h_mean = np.mean(h)\nprint(h_mean)",
      "metadata": {
        "trusted": true
      },
      "execution_count": 9,
      "outputs": [
        {
          "name": "stdout",
          "text": "178.66666666666666\n",
          "output_type": "stream"
        }
      ]
    },
    {
      "cell_type": "code",
      "source": "f_2 = np.array([173, 175, 180, 178, 177, 185, 183, 182, 179, 179, 179])\nh_2 = np.array([177, 179, 180, 188, 177, 172, 171, 184, 180, 179, 179])\nath_2 = np.array([172, 173, 169, 177, 166, 180, 178, 177, 172, 166, 170])",
      "metadata": {
        "trusted": true
      },
      "execution_count": 10,
      "outputs": []
    },
    {
      "cell_type": "code",
      "source": "n =3\nk =11",
      "metadata": {
        "trusted": true
      },
      "execution_count": 11,
      "outputs": []
    },
    {
      "cell_type": "code",
      "source": "#критерий Фишера наблюдаемый\nf = stats.f_oneway(f_2, h_2, ath_2)\nprint (f)",
      "metadata": {
        "trusted": true
      },
      "execution_count": 12,
      "outputs": [
        {
          "name": "stdout",
          "text": "F_onewayResult(statistic=7.300787401574802, pvalue=0.0026095518081141107)\n",
          "output_type": "stream"
        }
      ]
    },
    {
      "cell_type": "code",
      "source": "#так как значение  pvalue << 0.05 => нулевая гипотеза отклоняется, то есть существуют различия между \n# значениями среднего роста среди взрослых футболистов, хоккеистов и штангистов",
      "metadata": {
        "trusted": true
      },
      "execution_count": 13,
      "outputs": []
    },
    {
      "cell_type": "code",
      "source": "# критерий Фишера табличный\n# так как мы рассматриваем зависимость \"средний рост-вид спорта(спортсмен)\", поэтому имеем\n# две степени свободы к1 и к2\n# к1 = n-1  = 3-1 =2\n# k2 = k-1 = 11-1 = 10\n# следовательно табличный критерий Фишера равен 4.10\n#  наблюдаемый критерий Фишера больше, чем табличное значение, следователно принемаем альтернативную гипотезу, то есть \n# существуют различия между значениями среднего роста среди взрослых футболистов, хоккеистов и штангистов",
      "metadata": {
        "trusted": true
      },
      "execution_count": 14,
      "outputs": []
    },
    {
      "cell_type": "code",
      "source": "from statsmodels.stats.multicomp import pairwise_tukeyhsd\nimport pandas as pd\n\ndf = pd.DataFrame({'score': [173, 175, 180, 178, 177, 185, 183, 182, 179, 179, 179,\n                             177, 179, 180, 188, 177, 172, 171, 184, 180, 179, 179,\n                             172, 173, 169, 177, 166, 180, 178, 177, 172, 166, 170],\n                  'group': np.repeat(['football', 'hockey', 'athlete'], repeats=11)})\ntukey = pairwise_tukeyhsd(endog=df['score'],\n                         groups=df['group'],\n                         alpha=0.05)\nprint(tukey)",
      "metadata": {
        "trusted": true
      },
      "execution_count": 15,
      "outputs": [
        {
          "name": "stderr",
          "text": "/lib/python3.11/site-packages/scipy/integrate/_quadpack_py.py:1151: IntegrationWarning: The maximum number of subdivisions (50) has been achieved.\n  If increasing the limit yields no improvement it is advised to analyze \n  the integrand in order to determine the difficulties.  If the position of a \n  local difficulty can be determined (singularity, discontinuity) one will \n  probably gain from splitting up the interval and calling the integrator \n  on the subranges.  Perhaps a special-purpose integrator should be used.\n  quad_r = quad(f, low, high, args=args, full_output=self.full_output,\n",
          "output_type": "stream"
        },
        {
          "ename": "<class 'RuntimeError'>",
          "evalue": "Failed to converge after 100 iterations.",
          "traceback": [
            "\u001b[0;31m---------------------------------------------------------------------------\u001b[0m",
            "\u001b[0;31mRuntimeError\u001b[0m                              Traceback (most recent call last)",
            "Cell \u001b[0;32mIn[15], line 8\u001b[0m\n\u001b[1;32m      2\u001b[0m \u001b[38;5;28;01mimport\u001b[39;00m \u001b[38;5;21;01mpandas\u001b[39;00m \u001b[38;5;28;01mas\u001b[39;00m \u001b[38;5;21;01mpd\u001b[39;00m\n\u001b[1;32m      4\u001b[0m df \u001b[38;5;241m=\u001b[39m pd\u001b[38;5;241m.\u001b[39mDataFrame({\u001b[38;5;124m'\u001b[39m\u001b[38;5;124mscore\u001b[39m\u001b[38;5;124m'\u001b[39m: [\u001b[38;5;241m173\u001b[39m, \u001b[38;5;241m175\u001b[39m, \u001b[38;5;241m180\u001b[39m, \u001b[38;5;241m178\u001b[39m, \u001b[38;5;241m177\u001b[39m, \u001b[38;5;241m185\u001b[39m, \u001b[38;5;241m183\u001b[39m, \u001b[38;5;241m182\u001b[39m, \u001b[38;5;241m179\u001b[39m, \u001b[38;5;241m179\u001b[39m, \u001b[38;5;241m179\u001b[39m,\n\u001b[1;32m      5\u001b[0m                              \u001b[38;5;241m177\u001b[39m, \u001b[38;5;241m179\u001b[39m, \u001b[38;5;241m180\u001b[39m, \u001b[38;5;241m188\u001b[39m, \u001b[38;5;241m177\u001b[39m, \u001b[38;5;241m172\u001b[39m, \u001b[38;5;241m171\u001b[39m, \u001b[38;5;241m184\u001b[39m, \u001b[38;5;241m180\u001b[39m, \u001b[38;5;241m179\u001b[39m, \u001b[38;5;241m179\u001b[39m,\n\u001b[1;32m      6\u001b[0m                              \u001b[38;5;241m172\u001b[39m, \u001b[38;5;241m173\u001b[39m, \u001b[38;5;241m169\u001b[39m, \u001b[38;5;241m177\u001b[39m, \u001b[38;5;241m166\u001b[39m, \u001b[38;5;241m180\u001b[39m, \u001b[38;5;241m178\u001b[39m, \u001b[38;5;241m177\u001b[39m, \u001b[38;5;241m172\u001b[39m, \u001b[38;5;241m166\u001b[39m, \u001b[38;5;241m170\u001b[39m],\n\u001b[1;32m      7\u001b[0m                   \u001b[38;5;124m'\u001b[39m\u001b[38;5;124mgroup\u001b[39m\u001b[38;5;124m'\u001b[39m: np\u001b[38;5;241m.\u001b[39mrepeat([\u001b[38;5;124m'\u001b[39m\u001b[38;5;124mfootball\u001b[39m\u001b[38;5;124m'\u001b[39m, \u001b[38;5;124m'\u001b[39m\u001b[38;5;124mhockey\u001b[39m\u001b[38;5;124m'\u001b[39m, \u001b[38;5;124m'\u001b[39m\u001b[38;5;124mathlete\u001b[39m\u001b[38;5;124m'\u001b[39m], repeats\u001b[38;5;241m=\u001b[39m\u001b[38;5;241m11\u001b[39m)})\n\u001b[0;32m----> 8\u001b[0m tukey \u001b[38;5;241m=\u001b[39m \u001b[43mpairwise_tukeyhsd\u001b[49m\u001b[43m(\u001b[49m\u001b[43mendog\u001b[49m\u001b[38;5;241;43m=\u001b[39;49m\u001b[43mdf\u001b[49m\u001b[43m[\u001b[49m\u001b[38;5;124;43m'\u001b[39;49m\u001b[38;5;124;43mscore\u001b[39;49m\u001b[38;5;124;43m'\u001b[39;49m\u001b[43m]\u001b[49m\u001b[43m,\u001b[49m\n\u001b[1;32m      9\u001b[0m \u001b[43m                         \u001b[49m\u001b[43mgroups\u001b[49m\u001b[38;5;241;43m=\u001b[39;49m\u001b[43mdf\u001b[49m\u001b[43m[\u001b[49m\u001b[38;5;124;43m'\u001b[39;49m\u001b[38;5;124;43mgroup\u001b[39;49m\u001b[38;5;124;43m'\u001b[39;49m\u001b[43m]\u001b[49m\u001b[43m,\u001b[49m\n\u001b[1;32m     10\u001b[0m \u001b[43m                         \u001b[49m\u001b[43malpha\u001b[49m\u001b[38;5;241;43m=\u001b[39;49m\u001b[38;5;241;43m0.05\u001b[39;49m\u001b[43m)\u001b[49m\n\u001b[1;32m     11\u001b[0m \u001b[38;5;28mprint\u001b[39m(tukey)\n",
            "File \u001b[0;32m/lib/python3.11/site-packages/statsmodels/stats/multicomp.py:44\u001b[0m, in \u001b[0;36mpairwise_tukeyhsd\u001b[0;34m(endog, groups, alpha)\u001b[0m\n\u001b[1;32m     14\u001b[0m \u001b[38;5;28;01mdef\u001b[39;00m \u001b[38;5;21mpairwise_tukeyhsd\u001b[39m(endog, groups, alpha\u001b[38;5;241m=\u001b[39m\u001b[38;5;241m0.05\u001b[39m):\n\u001b[1;32m     15\u001b[0m \u001b[38;5;250m    \u001b[39m\u001b[38;5;124;03m\"\"\"\u001b[39;00m\n\u001b[1;32m     16\u001b[0m \u001b[38;5;124;03m    Calculate all pairwise comparisons with TukeyHSD confidence intervals\u001b[39;00m\n\u001b[1;32m     17\u001b[0m \n\u001b[0;32m   (...)\u001b[0m\n\u001b[1;32m     41\u001b[0m \u001b[38;5;124;03m    statsmodels.sandbox.stats.multicomp.TukeyHSDResults\u001b[39;00m\n\u001b[1;32m     42\u001b[0m \u001b[38;5;124;03m    \"\"\"\u001b[39;00m\n\u001b[0;32m---> 44\u001b[0m     \u001b[38;5;28;01mreturn\u001b[39;00m \u001b[43mMultiComparison\u001b[49m\u001b[43m(\u001b[49m\u001b[43mendog\u001b[49m\u001b[43m,\u001b[49m\u001b[43m \u001b[49m\u001b[43mgroups\u001b[49m\u001b[43m)\u001b[49m\u001b[38;5;241;43m.\u001b[39;49m\u001b[43mtukeyhsd\u001b[49m\u001b[43m(\u001b[49m\u001b[43malpha\u001b[49m\u001b[38;5;241;43m=\u001b[39;49m\u001b[43malpha\u001b[49m\u001b[43m)\u001b[49m\n",
            "File \u001b[0;32m/lib/python3.11/site-packages/statsmodels/sandbox/stats/multicomp.py:996\u001b[0m, in \u001b[0;36mMultiComparison.tukeyhsd\u001b[0;34m(self, alpha)\u001b[0m\n\u001b[1;32m    993\u001b[0m var_ \u001b[38;5;241m=\u001b[39m np\u001b[38;5;241m.\u001b[39mvar(\u001b[38;5;28mself\u001b[39m\u001b[38;5;241m.\u001b[39mgroupstats\u001b[38;5;241m.\u001b[39mgroupdemean(), ddof\u001b[38;5;241m=\u001b[39m\u001b[38;5;28mlen\u001b[39m(gmeans))\n\u001b[1;32m    994\u001b[0m \u001b[38;5;66;03m# res contains: 0:(idx1, idx2), 1:reject, 2:meandiffs, 3: std_pairs,\u001b[39;00m\n\u001b[1;32m    995\u001b[0m \u001b[38;5;66;03m# 4:confint, 5:q_crit, 6:df_total, 7:reject2, 8: pvals\u001b[39;00m\n\u001b[0;32m--> 996\u001b[0m res \u001b[38;5;241m=\u001b[39m \u001b[43mtukeyhsd\u001b[49m\u001b[43m(\u001b[49m\u001b[43mgmeans\u001b[49m\u001b[43m,\u001b[49m\u001b[43m \u001b[49m\u001b[43mgnobs\u001b[49m\u001b[43m,\u001b[49m\u001b[43m \u001b[49m\u001b[43mvar_\u001b[49m\u001b[43m,\u001b[49m\u001b[43m \u001b[49m\u001b[43mdf\u001b[49m\u001b[38;5;241;43m=\u001b[39;49m\u001b[38;5;28;43;01mNone\u001b[39;49;00m\u001b[43m,\u001b[49m\u001b[43m \u001b[49m\u001b[43malpha\u001b[49m\u001b[38;5;241;43m=\u001b[39;49m\u001b[43malpha\u001b[49m\u001b[43m,\u001b[49m\u001b[43m \u001b[49m\u001b[43mq_crit\u001b[49m\u001b[38;5;241;43m=\u001b[39;49m\u001b[38;5;28;43;01mNone\u001b[39;49;00m\u001b[43m)\u001b[49m\n\u001b[1;32m    998\u001b[0m resarr \u001b[38;5;241m=\u001b[39m np\u001b[38;5;241m.\u001b[39marray(lzip(\u001b[38;5;28mself\u001b[39m\u001b[38;5;241m.\u001b[39mgroupsunique[res[\u001b[38;5;241m0\u001b[39m][\u001b[38;5;241m0\u001b[39m]],\n\u001b[1;32m    999\u001b[0m                        \u001b[38;5;28mself\u001b[39m\u001b[38;5;241m.\u001b[39mgroupsunique[res[\u001b[38;5;241m0\u001b[39m][\u001b[38;5;241m1\u001b[39m]],\n\u001b[1;32m   1000\u001b[0m                        np\u001b[38;5;241m.\u001b[39mround(res[\u001b[38;5;241m2\u001b[39m], \u001b[38;5;241m4\u001b[39m),\n\u001b[0;32m   (...)\u001b[0m\n\u001b[1;32m   1010\u001b[0m                          (\u001b[38;5;124m'\u001b[39m\u001b[38;5;124mupper\u001b[39m\u001b[38;5;124m'\u001b[39m, \u001b[38;5;28mfloat\u001b[39m),\n\u001b[1;32m   1011\u001b[0m                          (\u001b[38;5;124m'\u001b[39m\u001b[38;5;124mreject\u001b[39m\u001b[38;5;124m'\u001b[39m, np\u001b[38;5;241m.\u001b[39mbool8)])\n\u001b[1;32m   1012\u001b[0m results_table \u001b[38;5;241m=\u001b[39m SimpleTable(resarr, headers\u001b[38;5;241m=\u001b[39mresarr\u001b[38;5;241m.\u001b[39mdtype\u001b[38;5;241m.\u001b[39mnames)\n",
            "File \u001b[0;32m/lib/python3.11/site-packages/statsmodels/sandbox/stats/multicomp.py:1304\u001b[0m, in \u001b[0;36mtukeyhsd\u001b[0;34m(mean_all, nobs_all, var_all, df, alpha, q_crit)\u001b[0m\n\u001b[1;32m   1302\u001b[0m df_total_ \u001b[38;5;241m=\u001b[39m \u001b[38;5;28mmax\u001b[39m(df_total, \u001b[38;5;241m5\u001b[39m)  \u001b[38;5;66;03m#TODO: smallest df in table\u001b[39;00m\n\u001b[1;32m   1303\u001b[0m \u001b[38;5;28;01mif\u001b[39;00m q_crit \u001b[38;5;129;01mis\u001b[39;00m \u001b[38;5;28;01mNone\u001b[39;00m:\n\u001b[0;32m-> 1304\u001b[0m     q_crit \u001b[38;5;241m=\u001b[39m \u001b[43mget_tukeyQcrit2\u001b[49m\u001b[43m(\u001b[49m\u001b[43mn_means\u001b[49m\u001b[43m,\u001b[49m\u001b[43m \u001b[49m\u001b[43mdf_total\u001b[49m\u001b[43m,\u001b[49m\u001b[43m \u001b[49m\u001b[43malpha\u001b[49m\u001b[38;5;241;43m=\u001b[39;49m\u001b[43malpha\u001b[49m\u001b[43m)\u001b[49m\n\u001b[1;32m   1306\u001b[0m pvalues \u001b[38;5;241m=\u001b[39m get_tukey_pvalue(n_means, df_total, st_range)\n\u001b[1;32m   1307\u001b[0m \u001b[38;5;66;03m# we need pvalues to be atleast_1d for iteration. see #6132\u001b[39;00m\n",
            "File \u001b[0;32m/lib/python3.11/site-packages/statsmodels/sandbox/stats/multicomp.py:167\u001b[0m, in \u001b[0;36mget_tukeyQcrit2\u001b[0;34m(k, df, alpha)\u001b[0m\n\u001b[1;32m    150\u001b[0m \u001b[38;5;28;01mdef\u001b[39;00m \u001b[38;5;21mget_tukeyQcrit2\u001b[39m(k, df, alpha\u001b[38;5;241m=\u001b[39m\u001b[38;5;241m0.05\u001b[39m):\n\u001b[1;32m    151\u001b[0m \u001b[38;5;250m    \u001b[39m\u001b[38;5;124;03m'''\u001b[39;00m\n\u001b[1;32m    152\u001b[0m \u001b[38;5;124;03m    return critical values for Tukey's HSD (Q)\u001b[39;00m\n\u001b[1;32m    153\u001b[0m \n\u001b[0;32m   (...)\u001b[0m\n\u001b[1;32m    165\u001b[0m \u001b[38;5;124;03m    not enough error checking for limitations\u001b[39;00m\n\u001b[1;32m    166\u001b[0m \u001b[38;5;124;03m    '''\u001b[39;00m\n\u001b[0;32m--> 167\u001b[0m     \u001b[38;5;28;01mreturn\u001b[39;00m \u001b[43mstudentized_range\u001b[49m\u001b[38;5;241;43m.\u001b[39;49m\u001b[43mppf\u001b[49m\u001b[43m(\u001b[49m\u001b[38;5;241;43m1\u001b[39;49m\u001b[38;5;241;43m-\u001b[39;49m\u001b[43malpha\u001b[49m\u001b[43m,\u001b[49m\u001b[43m \u001b[49m\u001b[43mk\u001b[49m\u001b[43m,\u001b[49m\u001b[43m \u001b[49m\u001b[43mdf\u001b[49m\u001b[43m)\u001b[49m\n",
            "File \u001b[0;32m/lib/python3.11/site-packages/scipy/stats/_distn_infrastructure.py:2351\u001b[0m, in \u001b[0;36mrv_continuous.ppf\u001b[0;34m(self, q, *args, **kwds)\u001b[0m\n\u001b[1;32m   2349\u001b[0m     goodargs \u001b[38;5;241m=\u001b[39m argsreduce(cond, \u001b[38;5;241m*\u001b[39m((q,)\u001b[38;5;241m+\u001b[39margs\u001b[38;5;241m+\u001b[39m(scale, loc)))\n\u001b[1;32m   2350\u001b[0m     scale, loc, goodargs \u001b[38;5;241m=\u001b[39m goodargs[\u001b[38;5;241m-\u001b[39m\u001b[38;5;241m2\u001b[39m], goodargs[\u001b[38;5;241m-\u001b[39m\u001b[38;5;241m1\u001b[39m], goodargs[:\u001b[38;5;241m-\u001b[39m\u001b[38;5;241m2\u001b[39m]\n\u001b[0;32m-> 2351\u001b[0m     place(output, cond, \u001b[38;5;28;43mself\u001b[39;49m\u001b[38;5;241;43m.\u001b[39;49m\u001b[43m_ppf\u001b[49m\u001b[43m(\u001b[49m\u001b[38;5;241;43m*\u001b[39;49m\u001b[43mgoodargs\u001b[49m\u001b[43m)\u001b[49m \u001b[38;5;241m*\u001b[39m scale \u001b[38;5;241m+\u001b[39m loc)\n\u001b[1;32m   2352\u001b[0m \u001b[38;5;28;01mif\u001b[39;00m output\u001b[38;5;241m.\u001b[39mndim \u001b[38;5;241m==\u001b[39m \u001b[38;5;241m0\u001b[39m:\n\u001b[1;32m   2353\u001b[0m     \u001b[38;5;28;01mreturn\u001b[39;00m output[()]\n",
            "File \u001b[0;32m/lib/python3.11/site-packages/scipy/stats/_distn_infrastructure.py:1019\u001b[0m, in \u001b[0;36mrv_generic._ppf\u001b[0;34m(self, q, *args)\u001b[0m\n\u001b[1;32m   1018\u001b[0m \u001b[38;5;28;01mdef\u001b[39;00m \u001b[38;5;21m_ppf\u001b[39m(\u001b[38;5;28mself\u001b[39m, q, \u001b[38;5;241m*\u001b[39margs):\n\u001b[0;32m-> 1019\u001b[0m     \u001b[38;5;28;01mreturn\u001b[39;00m \u001b[38;5;28;43mself\u001b[39;49m\u001b[38;5;241;43m.\u001b[39;49m\u001b[43m_ppfvec\u001b[49m\u001b[43m(\u001b[49m\u001b[43mq\u001b[49m\u001b[43m,\u001b[49m\u001b[43m \u001b[49m\u001b[38;5;241;43m*\u001b[39;49m\u001b[43margs\u001b[49m\u001b[43m)\u001b[49m\n",
            "File \u001b[0;32m/lib/python3.11/site-packages/numpy/lib/function_base.py:2329\u001b[0m, in \u001b[0;36mvectorize.__call__\u001b[0;34m(self, *args, **kwargs)\u001b[0m\n\u001b[1;32m   2326\u001b[0m     vargs \u001b[38;5;241m=\u001b[39m [args[_i] \u001b[38;5;28;01mfor\u001b[39;00m _i \u001b[38;5;129;01min\u001b[39;00m inds]\n\u001b[1;32m   2327\u001b[0m     vargs\u001b[38;5;241m.\u001b[39mextend([kwargs[_n] \u001b[38;5;28;01mfor\u001b[39;00m _n \u001b[38;5;129;01min\u001b[39;00m names])\n\u001b[0;32m-> 2329\u001b[0m \u001b[38;5;28;01mreturn\u001b[39;00m \u001b[38;5;28;43mself\u001b[39;49m\u001b[38;5;241;43m.\u001b[39;49m\u001b[43m_vectorize_call\u001b[49m\u001b[43m(\u001b[49m\u001b[43mfunc\u001b[49m\u001b[38;5;241;43m=\u001b[39;49m\u001b[43mfunc\u001b[49m\u001b[43m,\u001b[49m\u001b[43m \u001b[49m\u001b[43margs\u001b[49m\u001b[38;5;241;43m=\u001b[39;49m\u001b[43mvargs\u001b[49m\u001b[43m)\u001b[49m\n",
            "File \u001b[0;32m/lib/python3.11/site-packages/numpy/lib/function_base.py:2412\u001b[0m, in \u001b[0;36mvectorize._vectorize_call\u001b[0;34m(self, func, args)\u001b[0m\n\u001b[1;32m   2409\u001b[0m \u001b[38;5;66;03m# Convert args to object arrays first\u001b[39;00m\n\u001b[1;32m   2410\u001b[0m inputs \u001b[38;5;241m=\u001b[39m [asanyarray(a, dtype\u001b[38;5;241m=\u001b[39m\u001b[38;5;28mobject\u001b[39m) \u001b[38;5;28;01mfor\u001b[39;00m a \u001b[38;5;129;01min\u001b[39;00m args]\n\u001b[0;32m-> 2412\u001b[0m outputs \u001b[38;5;241m=\u001b[39m \u001b[43mufunc\u001b[49m\u001b[43m(\u001b[49m\u001b[38;5;241;43m*\u001b[39;49m\u001b[43minputs\u001b[49m\u001b[43m)\u001b[49m\n\u001b[1;32m   2414\u001b[0m \u001b[38;5;28;01mif\u001b[39;00m ufunc\u001b[38;5;241m.\u001b[39mnout \u001b[38;5;241m==\u001b[39m \u001b[38;5;241m1\u001b[39m:\n\u001b[1;32m   2415\u001b[0m     res \u001b[38;5;241m=\u001b[39m asanyarray(outputs, dtype\u001b[38;5;241m=\u001b[39motypes[\u001b[38;5;241m0\u001b[39m])\n",
            "File \u001b[0;32m/lib/python3.11/site-packages/scipy/stats/_distn_infrastructure.py:2016\u001b[0m, in \u001b[0;36mrv_continuous._ppf_single\u001b[0;34m(self, q, *args)\u001b[0m\n\u001b[1;32m   2013\u001b[0m         left, right \u001b[38;5;241m=\u001b[39m right, right \u001b[38;5;241m*\u001b[39m factor\n\u001b[1;32m   2014\u001b[0m     \u001b[38;5;66;03m# right is now such that cdf(right) >= q\u001b[39;00m\n\u001b[0;32m-> 2016\u001b[0m \u001b[38;5;28;01mreturn\u001b[39;00m \u001b[43moptimize\u001b[49m\u001b[38;5;241;43m.\u001b[39;49m\u001b[43mbrentq\u001b[49m\u001b[43m(\u001b[49m\u001b[38;5;28;43mself\u001b[39;49m\u001b[38;5;241;43m.\u001b[39;49m\u001b[43m_ppf_to_solve\u001b[49m\u001b[43m,\u001b[49m\n\u001b[1;32m   2017\u001b[0m \u001b[43m                       \u001b[49m\u001b[43mleft\u001b[49m\u001b[43m,\u001b[49m\u001b[43m \u001b[49m\u001b[43mright\u001b[49m\u001b[43m,\u001b[49m\u001b[43m \u001b[49m\u001b[43margs\u001b[49m\u001b[38;5;241;43m=\u001b[39;49m\u001b[43m(\u001b[49m\u001b[43mq\u001b[49m\u001b[43m,\u001b[49m\u001b[43m)\u001b[49m\u001b[38;5;241;43m+\u001b[39;49m\u001b[43margs\u001b[49m\u001b[43m,\u001b[49m\u001b[43m \u001b[49m\u001b[43mxtol\u001b[49m\u001b[38;5;241;43m=\u001b[39;49m\u001b[38;5;28;43mself\u001b[39;49m\u001b[38;5;241;43m.\u001b[39;49m\u001b[43mxtol\u001b[49m\u001b[43m)\u001b[49m\n",
            "File \u001b[0;32m/lib/python3.11/site-packages/scipy/optimize/_zeros_py.py:783\u001b[0m, in \u001b[0;36mbrentq\u001b[0;34m(f, a, b, args, xtol, rtol, maxiter, full_output, disp)\u001b[0m\n\u001b[1;32m    781\u001b[0m \u001b[38;5;28;01mif\u001b[39;00m rtol \u001b[38;5;241m<\u001b[39m _rtol:\n\u001b[1;32m    782\u001b[0m     \u001b[38;5;28;01mraise\u001b[39;00m \u001b[38;5;167;01mValueError\u001b[39;00m(\u001b[38;5;124m\"\u001b[39m\u001b[38;5;124mrtol too small (\u001b[39m\u001b[38;5;132;01m%g\u001b[39;00m\u001b[38;5;124m < \u001b[39m\u001b[38;5;132;01m%g\u001b[39;00m\u001b[38;5;124m)\u001b[39m\u001b[38;5;124m\"\u001b[39m \u001b[38;5;241m%\u001b[39m (rtol, _rtol))\n\u001b[0;32m--> 783\u001b[0m r \u001b[38;5;241m=\u001b[39m \u001b[43m_zeros\u001b[49m\u001b[38;5;241;43m.\u001b[39;49m\u001b[43m_brentq\u001b[49m\u001b[43m(\u001b[49m\u001b[43mf\u001b[49m\u001b[43m,\u001b[49m\u001b[43m \u001b[49m\u001b[43ma\u001b[49m\u001b[43m,\u001b[49m\u001b[43m \u001b[49m\u001b[43mb\u001b[49m\u001b[43m,\u001b[49m\u001b[43m \u001b[49m\u001b[43mxtol\u001b[49m\u001b[43m,\u001b[49m\u001b[43m \u001b[49m\u001b[43mrtol\u001b[49m\u001b[43m,\u001b[49m\u001b[43m \u001b[49m\u001b[43mmaxiter\u001b[49m\u001b[43m,\u001b[49m\u001b[43m \u001b[49m\u001b[43margs\u001b[49m\u001b[43m,\u001b[49m\u001b[43m \u001b[49m\u001b[43mfull_output\u001b[49m\u001b[43m,\u001b[49m\u001b[43m \u001b[49m\u001b[43mdisp\u001b[49m\u001b[43m)\u001b[49m\n\u001b[1;32m    784\u001b[0m \u001b[38;5;28;01mreturn\u001b[39;00m results_c(full_output, r)\n",
            "\u001b[0;31mRuntimeError\u001b[0m: Failed to converge after 100 iterations."
          ],
          "output_type": "error"
        }
      ]
    },
    {
      "cell_type": "code",
      "source": "",
      "metadata": {},
      "execution_count": null,
      "outputs": []
    }
  ]
}